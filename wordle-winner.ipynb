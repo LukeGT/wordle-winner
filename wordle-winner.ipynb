{
 "cells": [
  {
   "cell_type": "code",
   "execution_count": null,
   "metadata": {},
   "outputs": [],
   "source": [
    "%load_ext autoreload\n",
    "%autoreload 2"
   ]
  },
  {
   "cell_type": "code",
   "execution_count": null,
   "metadata": {},
   "outputs": [],
   "source": [
    "from typing import *\n",
    "\n",
    "from tqdm import tqdm\n",
    "\n",
    "import pickle\n",
    "import multiprocessing\n",
    "import collections\n",
    "\n",
    "import lib\n",
    "import workers\n",
    "import word_bank"
   ]
  },
  {
   "cell_type": "markdown",
   "metadata": {},
   "source": [
    "## Best starting word\n",
    "\n",
    "Numbers indicate how many possibilities will be remaining after guessing the word.\n",
    "\n",
    "Considering all words (12972):\n",
    "- SERAI (697 worst, 315 avg)\n",
    "- SOARE (769 worst, 304 avg)\n",
    "\n",
    "Considering only answers (2315):\n",
    "- AESIR (168 worst, 62 avg)\n",
    "- REAIS (168 worst, 52 avg)\n",
    "- RAISE (168 worst, 52 avg)\n",
    "\n",
    "## Best following words from RAISE\n",
    "\n",
    " 1. `_ _ _ _ _ `: NOBLY (15 worst)\n",
    " 2. `_ _ _ _ e?`: TOWEL (10 worst)\n",
    " 3. `_ _ i?_ _ `: UNTIL (11 worst)\n",
    " 4. `r?_ _ _ _ `: COLON (10 worst)\n",
    " 5. `r?_ _ _ e?`: OUTER (16 worst)\n",
    " 6. `_ a?_ _ _ `: CLOAK (7 worst)\n",
    " 7. `_ a!_ _ _ `: TANGY (13 worst)\n",
    " 8. `_ _ _ s?_ `: STOOL (8 worst)\n",
    " 9. `r?a?_ _ _ `: CROWN (10 worst)\n",
    "10. `_ a?_ _ e?`: METAL (5 worst)\n",
    "11. `_ _ _ _ e!`: CLOUT (5 worst)\n",
    "12. `_ _ i!_ _ `: CLOUT (5 worst)\n",
    "13. `_ a?_ s?_ `: STALK (5 worst)\n",
    "14. `_ a?_ _ e!`: ALBUM (7 worst)\n",
    "15. `_ _ _ s?e?`: SPELT (4 worst)\n",
    "16. `r?_ _ _ e!`: PRONG (6 worst)\n",
    "17. `_ _ i?_ e?`: LIPID (3 worst)\n",
    "18. `_ a?i?_ _ `: PLANT (3 worst)\n",
    "19. `r?a?_ _ e?`: DRAFT (5 worst)\n",
    "20. `_ _ i!s?_ `: BLUNT (4 worst)\n",
    "21. `r?a!_ _ e?`: EMPTY (7 worst)\n",
    "22. `r?_ i!_ _ `: PLANK (5 worst)\n",
    "23. `r?a?_ _ e!`: GRACE (6 worst)\n",
    "24. `_ a!_ _ e!`: GULLY (4 worst)\n",
    "25. `r?a!_ _ _ `: AMPLY (5 worst)\n",
    "26. `r?_ i?_ e?`: FIEND (6 worst)\n",
    "27. `_ _ i?_ e!`: GULCH (4 worst) \n",
    "28. `r?_ _ s?_ `: BURNT (3 worst)\n",
    "29. `r?_ i?_ _ `: CHOIR (3 worst)\n",
    "30. `_ _ i!_ e!`: CLOTH (3 worst)\n",
    "\n",
    "Or when in doubt, guess **CLOUT** (22 worst, 5.1 average)"
   ]
  },
  {
   "cell_type": "code",
   "execution_count": null,
   "metadata": {},
   "outputs": [],
   "source": [
    "for second_guess in [\n",
    "  'nobly',\n",
    "  'towel',\n",
    "  'until',\n",
    "  'colon',\n",
    "  'outer',\n",
    "  'cloak',\n",
    "  'tangy',\n",
    "  'stool',\n",
    "  'crown',\n",
    "  'metal',\n",
    "  'clout',\n",
    "  'clout',\n",
    "  'stalk',\n",
    "  'album',\n",
    "  'spelt',\n",
    "  'prong',\n",
    "  'lipid',\n",
    "  'plant',\n",
    "  'draft',\n",
    "  'blunt',\n",
    "  'empty',\n",
    "  'plank',\n",
    "  'grace',\n",
    "  'gully',\n",
    "  'amply',\n",
    "  'fiend',\n",
    "  'gulch',\n",
    "  'burnt',\n",
    "  'choir',\n",
    "  'cloth',\n",
    "]:\n",
    "  posss = []\n",
    "  for answer in tqdm(word_bank.answers):\n",
    "    clues = lib.get_clues('serai', answer) + lib.get_clues(second_guess, answer)\n",
    "    poss = word_bank.get_possibilities_num(clues, word_bank.answers)\n",
    "    posss.append(poss)\n",
    "  print(second_guess, max(posss), sum(posss)/len(posss))\n"
   ]
  },
  {
   "cell_type": "code",
   "execution_count": null,
   "metadata": {},
   "outputs": [],
   "source": [
    "clue_freq = collections.defaultdict(int)\n",
    "for word in word_bank.answers:\n",
    "  clues = lib.get_clues('serai', word)\n",
    "  clue_freq[clues] += 1\n",
    "\n",
    "items = sorted(clue_freq.items(), key=lambda x: x[1], reverse=True)\n",
    "\n",
    "for clues, _ in items[:1]:\n",
    "  print(clues)\n",
    "  print(workers.play(clues, word_bank.answers))"
   ]
  },
  {
   "cell_type": "code",
   "execution_count": null,
   "metadata": {},
   "outputs": [],
   "source": [
    "clues = lib.get_clues('raise', 'knoll') + lib.get_clues('nobly', 'knoll')\n",
    "workers.play(clues, word_bank.answers, True)"
   ]
  },
  {
   "cell_type": "code",
   "execution_count": null,
   "metadata": {},
   "outputs": [],
   "source": [
    "def play_game(answer: str, hard_mode=True):\n",
    "  guesses = ['raise']\n",
    "  clues = lib.get_clues(guesses[0], answer)\n",
    "\n",
    "  while guesses[-1] != answer:\n",
    "    guess, max_poss = workers.play(clues, word_bank.answers, hard_mode)\n",
    "    guesses += [guess]\n",
    "    clues += lib.get_clues(guess, answer)\n",
    "  \n",
    "  return guesses"
   ]
  },
  {
   "cell_type": "code",
   "execution_count": null,
   "metadata": {},
   "outputs": [],
   "source": [
    "performance = collections.defaultdict(int)\n",
    "games = []\n",
    "for answer in tqdm(word_bank.answers):\n",
    "  guesses = play_game(answer)\n",
    "  games.append(guesses)\n",
    "  performance[len(guesses)] += 1\n",
    "performance"
   ]
  },
  {
   "cell_type": "code",
   "execution_count": null,
   "metadata": {},
   "outputs": [],
   "source": [
    "with open('optimal-games-hard-mode.pkl', 'wb') as file:\n",
    "  pickle.dump(games, file)"
   ]
  },
  {
   "cell_type": "code",
   "execution_count": null,
   "metadata": {},
   "outputs": [],
   "source": [
    "for game in games:\n",
    "  if len(game) > 6:\n",
    "    print(game)\n",
    "    print(play_game(game[-1], False))"
   ]
  },
  {
   "cell_type": "code",
   "execution_count": null,
   "metadata": {},
   "outputs": [],
   "source": [
    "clues = lib.get_clues('raise', 'batch') + lib.get_clues('tangy', 'batch') + lib.get_clues('clump', 'batch') + lib.get_clues('bawdy', 'batch')\n",
    "workers.play(clues, word_bank.answers, False)"
   ]
  },
  {
   "cell_type": "code",
   "execution_count": null,
   "metadata": {},
   "outputs": [],
   "source": [
    "with open('max-possibilities-all-words.pkl', 'rb') as file:\n",
    "  max_poss_all_words = pickle.load(file)"
   ]
  },
  {
   "cell_type": "code",
   "execution_count": null,
   "metadata": {},
   "outputs": [],
   "source": [
    "clues = sum(\n",
    "  (\n",
    "    lib.get_clues(word, goal)\n",
    "    for word, goal in [\n",
    "      ('raise', 'aXXXX'),\n",
    "      ('cloak', 'caXXX'),\n",
    "    ]\n",
    "  ),\n",
    "  tuple()\n",
    ")\n",
    "workers.play(clues, word_bank.answers)"
   ]
  },
  {
   "cell_type": "code",
   "execution_count": null,
   "metadata": {},
   "outputs": [],
   "source": [
    "best = None\n",
    "results = []\n",
    "\n",
    "with multiprocessing.Pool() as pool:\n",
    "  input_words = [word for _, word in sorted(max_poss_all_words)]\n",
    "  for result in tqdm(pool.imap_unordered(workers.get_worst_case_with_answers, input_words), total=len(words)):\n",
    "    results.append(result)\n",
    "    if best is None or result < best:\n",
    "      best = result\n",
    "      print(best)\n"
   ]
  },
  {
   "cell_type": "code",
   "execution_count": null,
   "metadata": {},
   "outputs": [],
   "source": [
    "with open('max-possibilities-only-answers.pkl', 'wb') as file:\n",
    "  pickle.dump(results, file)"
   ]
  },
  {
   "cell_type": "code",
   "execution_count": null,
   "metadata": {},
   "outputs": [],
   "source": [
    "sum(lib.get_possibilities_num(lib.get_clues('aesir', word)) for word in lib.words)/len(lib.words)"
   ]
  },
  {
   "cell_type": "code",
   "execution_count": null,
   "metadata": {},
   "outputs": [],
   "source": [
    "for _, guess in sorted(results)[:10]:\n",
    "  print(guess, sum(lib.get_possibilities_num(lib.get_clues(guess, word)) for word in lib.words)/len(lib.words))"
   ]
  }
 ],
 "metadata": {
  "interpreter": {
   "hash": "63fd5069d213b44bf678585dea6b12cceca9941eaf7f819626cde1f2670de90d"
  },
  "kernelspec": {
   "display_name": "Python 3.9.7 64-bit",
   "language": "python",
   "name": "python3"
  },
  "language_info": {
   "codemirror_mode": {
    "name": "ipython",
    "version": 3
   },
   "file_extension": ".py",
   "mimetype": "text/x-python",
   "name": "python",
   "nbconvert_exporter": "python",
   "pygments_lexer": "ipython3",
   "version": "3.9.7"
  },
  "orig_nbformat": 4
 },
 "nbformat": 4,
 "nbformat_minor": 2
}
